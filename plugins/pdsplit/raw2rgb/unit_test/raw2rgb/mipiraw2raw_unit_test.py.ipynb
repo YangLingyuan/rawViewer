{
 "cells": [
  {
   "cell_type": "code",
   "execution_count": 1,
   "metadata": {},
   "outputs": [],
   "source": [
    "import argparse \n",
    "import numpy as np\n",
    "from PIL import Image, ImageDraw\n",
    "import math"
   ]
  },
  {
   "cell_type": "code",
   "execution_count": 2,
   "metadata": {},
   "outputs": [],
   "source": [
    "def read_raw_data(path):\n",
    "    \"Open raw or mipi-raw format file.\"\n",
    "    try:\n",
    "        raw_data = np.fromfile(path, dtype=np.uint8).astype(np.uint16)\n",
    "        \n",
    "    except Exception as e:\n",
    "        print(\"File read failed Exception:\")\n",
    "    else:\n",
    "        return raw_data"
   ]
  },
  {
   "cell_type": "code",
   "execution_count": 7,
   "metadata": {},
   "outputs": [],
   "source": [
    "def mipiraw10toraw(mipiraw10_array: np.ndarray):\n",
    "    \"This is the lossless conversion method of mipi raw to raw.\"\n",
    "    mipiraw10_array = mipiraw10_array.reshape((-1,5))\n",
    "    mipiraw10_array[:,0] = np.left_shift(mipiraw10_array[:,0],2)\n",
    "    mipiraw10_array[:,1] = np.left_shift(mipiraw10_array[:,1],2)\n",
    "    mipiraw10_array[:,2] = np.left_shift(mipiraw10_array[:,2],2)\n",
    "    mipiraw10_array[:,3] = np.left_shift(mipiraw10_array[:,3],2)\n",
    "    mipiraw10_array[:,0] = mipiraw10_array[:,0] | np.bitwise_and(np.right_shift(mipiraw10_array[:,4],0),0x3)\n",
    "    mipiraw10_array[:,1] = mipiraw10_array[:,1] | np.bitwise_and(np.right_shift(mipiraw10_array[:,4],2),0x3)\n",
    "    mipiraw10_array[:,2] = mipiraw10_array[:,2] | np.bitwise_and(np.right_shift(mipiraw10_array[:,4],4),0x3)\n",
    "    mipiraw10_array[:,3] = mipiraw10_array[:,3] | np.bitwise_and(np.right_shift(mipiraw10_array[:,4],6),0x3)\n",
    "    return np.delete(mipiraw10_array,-1,axis=1).reshape((1,-1))"
   ]
  },
  {
   "cell_type": "code",
   "execution_count": 4,
   "metadata": {},
   "outputs": [],
   "source": [
    "rrd = read_raw_data(\"/home/jc/Project/CViewer/GitLab/CViewer/sample/Sample.raw\")"
   ]
  },
  {
   "cell_type": "code",
   "execution_count": 5,
   "metadata": {},
   "outputs": [
    {
     "data": {
      "text/plain": [
       "array([25, 20, 23, ..., 17, 19, 46], dtype=uint16)"
      ]
     },
     "execution_count": 5,
     "metadata": {},
     "output_type": "execute_result"
    }
   ],
   "source": [
    "rrd"
   ]
  },
  {
   "cell_type": "code",
   "execution_count": 6,
   "metadata": {},
   "outputs": [
    {
     "data": {
      "text/plain": [
       "(15000000,)"
      ]
     },
     "execution_count": 6,
     "metadata": {},
     "output_type": "execute_result"
    }
   ],
   "source": [
    "rrd.shape"
   ]
  },
  {
   "cell_type": "code",
   "execution_count": 8,
   "metadata": {},
   "outputs": [],
   "source": [
    "raw = mipiraw10toraw(rrd)"
   ]
  },
  {
   "cell_type": "code",
   "execution_count": 9,
   "metadata": {},
   "outputs": [
    {
     "data": {
      "text/plain": [
       "array([[102,  80,  94, ...,  75,  70,  76]], dtype=uint16)"
      ]
     },
     "execution_count": 9,
     "metadata": {},
     "output_type": "execute_result"
    }
   ],
   "source": [
    "raw"
   ]
  },
  {
   "cell_type": "code",
   "execution_count": 10,
   "metadata": {},
   "outputs": [
    {
     "data": {
      "text/plain": [
       "array([[204., 160., 188., ..., 150., 140., 152.]])"
      ]
     },
     "execution_count": 10,
     "metadata": {},
     "output_type": "execute_result"
    }
   ],
   "source": [
    "raw * 2.0"
   ]
  },
  {
   "cell_type": "code",
   "execution_count": 11,
   "metadata": {},
   "outputs": [
    {
     "data": {
      "text/plain": [
       "array([[51. , 40. , 47. , ..., 37.5, 35. , 38. ]])"
      ]
     },
     "execution_count": 11,
     "metadata": {},
     "output_type": "execute_result"
    }
   ],
   "source": [
    "raw / 2.0"
   ]
  },
  {
   "cell_type": "code",
   "execution_count": 13,
   "metadata": {},
   "outputs": [
    {
     "data": {
      "text/plain": [
       "array([[51. , 40. , 47. , ..., 37.5, 35. , 38. ]])"
      ]
     },
     "execution_count": 13,
     "metadata": {},
     "output_type": "execute_result"
    }
   ],
   "source": [
    "raw * 0.5"
   ]
  },
  {
   "cell_type": "code",
   "execution_count": 14,
   "metadata": {},
   "outputs": [
    {
     "data": {
      "text/plain": [
       "array([[102,  80,  94, ...,  75,  70,  76]], dtype=uint16)"
      ]
     },
     "execution_count": 14,
     "metadata": {},
     "output_type": "execute_result"
    }
   ],
   "source": [
    "raw"
   ]
  },
  {
   "cell_type": "code",
   "execution_count": 21,
   "metadata": {},
   "outputs": [],
   "source": [
    "def raw2rgb(raw_array:np.ndarray, width:int, height:int, pattern:str, gain:float):\n",
    "    \"This is the method to convert from raw format to RGB format.\"\n",
    "    if abs(1.000000 - gain) > 0.000001:\n",
    "        raw_array = raw_array*gain       \n",
    "\n",
    "    channels = {'R': [1, 0, 0], 'G': [0, 1, 0], 'B': [0, 0, 1]}\n",
    "    channel_marker = np.zeros([height, width, 3])\n",
    "\n",
    "    for channel, (y, x) in zip(pattern, [(0, 0), (0, 1), (1, 0), (1, 1)]):\n",
    "        channel_marker[y::2, x::2] = channels[channel]\n",
    "    channel_marker = channel_marker.reshape([width * height, 3]).T\n",
    "    rgb_array = (raw_array * channel_marker).T\n",
    "    rgb_array = rgb_array.reshape([height, width, 3])\n",
    "    return rgb_array"
   ]
  },
  {
   "cell_type": "code",
   "execution_count": null,
   "metadata": {},
   "outputs": [],
   "source": []
  },
  {
   "cell_type": "code",
   "execution_count": 22,
   "metadata": {},
   "outputs": [
    {
     "data": {
      "text/plain": [
       "array([[102,  80,  94, ...,  75,  70,  76]], dtype=uint16)"
      ]
     },
     "execution_count": 22,
     "metadata": {},
     "output_type": "execute_result"
    }
   ],
   "source": [
    "raw"
   ]
  },
  {
   "cell_type": "code",
   "execution_count": null,
   "metadata": {},
   "outputs": [],
   "source": []
  },
  {
   "cell_type": "code",
   "execution_count": 23,
   "metadata": {},
   "outputs": [],
   "source": [
    "raw2 = raw2rgb(raw, 4000, 3000, \"RGGB\", 1.0)"
   ]
  },
  {
   "cell_type": "code",
   "execution_count": null,
   "metadata": {},
   "outputs": [],
   "source": []
  },
  {
   "cell_type": "code",
   "execution_count": 24,
   "metadata": {},
   "outputs": [
    {
     "data": {
      "text/plain": [
       "array([[[102.,   0.,   0.],\n",
       "        [  0.,  80.,   0.],\n",
       "        [ 94.,   0.,   0.],\n",
       "        ...,\n",
       "        [  0.,  82.,   0.],\n",
       "        [ 98.,   0.,   0.],\n",
       "        [  0.,  77.,   0.]],\n",
       "\n",
       "       [[  0.,  81.,   0.],\n",
       "        [  0.,   0.,  95.],\n",
       "        [  0.,  81.,   0.],\n",
       "        ...,\n",
       "        [  0.,   0.,  96.],\n",
       "        [  0.,  79.,   0.],\n",
       "        [  0.,   0.,  95.]],\n",
       "\n",
       "       [[ 98.,   0.,   0.],\n",
       "        [  0.,  82.,   0.],\n",
       "        [ 92.,   0.,   0.],\n",
       "        ...,\n",
       "        [  0.,  84.,   0.],\n",
       "        [ 96.,   0.,   0.],\n",
       "        [  0.,  79.,   0.]],\n",
       "\n",
       "       ...,\n",
       "\n",
       "       [[  0.,  83.,   0.],\n",
       "        [  0.,   0.,  92.],\n",
       "        [  0.,  76.,   0.],\n",
       "        ...,\n",
       "        [  0.,   0.,  77.],\n",
       "        [  0.,  68.,   0.],\n",
       "        [  0.,   0.,  81.]],\n",
       "\n",
       "       [[ 95.,   0.,   0.],\n",
       "        [  0.,  85.,   0.],\n",
       "        [ 96.,   0.,   0.],\n",
       "        ...,\n",
       "        [  0.,  73.,   0.],\n",
       "        [ 74.,   0.,   0.],\n",
       "        [  0.,  78.,   0.]],\n",
       "\n",
       "       [[  0.,  79.,   0.],\n",
       "        [  0.,   0., 100.],\n",
       "        [  0.,  81.,   0.],\n",
       "        ...,\n",
       "        [  0.,   0.,  75.],\n",
       "        [  0.,  70.,   0.],\n",
       "        [  0.,   0.,  76.]]])"
      ]
     },
     "execution_count": 24,
     "metadata": {},
     "output_type": "execute_result"
    }
   ],
   "source": [
    "raw2"
   ]
  },
  {
   "cell_type": "code",
   "execution_count": null,
   "metadata": {},
   "outputs": [],
   "source": []
  },
  {
   "cell_type": "code",
   "execution_count": 25,
   "metadata": {},
   "outputs": [
    {
     "data": {
      "text/plain": [
       "1023.0"
      ]
     },
     "execution_count": 25,
     "metadata": {},
     "output_type": "execute_result"
    }
   ],
   "source": [
    "raw2.max()"
   ]
  },
  {
   "cell_type": "code",
   "execution_count": 26,
   "metadata": {},
   "outputs": [
    {
     "data": {
      "text/plain": [
       "0.0"
      ]
     },
     "execution_count": 26,
     "metadata": {},
     "output_type": "execute_result"
    }
   ],
   "source": [
    "raw2.min()"
   ]
  },
  {
   "cell_type": "code",
   "execution_count": 27,
   "metadata": {},
   "outputs": [],
   "source": [
    "rgb_array = (raw2 - raw2.min())/(raw2.max() - raw2.min())*255"
   ]
  },
  {
   "cell_type": "code",
   "execution_count": 28,
   "metadata": {},
   "outputs": [
    {
     "data": {
      "text/plain": [
       "array([[[25.42521994,  0.        ,  0.        ],\n",
       "        [ 0.        , 19.94134897,  0.        ],\n",
       "        [23.43108504,  0.        ,  0.        ],\n",
       "        ...,\n",
       "        [ 0.        , 20.4398827 ,  0.        ],\n",
       "        [24.42815249,  0.        ,  0.        ],\n",
       "        [ 0.        , 19.19354839,  0.        ]],\n",
       "\n",
       "       [[ 0.        , 20.19061584,  0.        ],\n",
       "        [ 0.        ,  0.        , 23.68035191],\n",
       "        [ 0.        , 20.19061584,  0.        ],\n",
       "        ...,\n",
       "        [ 0.        ,  0.        , 23.92961877],\n",
       "        [ 0.        , 19.69208211,  0.        ],\n",
       "        [ 0.        ,  0.        , 23.68035191]],\n",
       "\n",
       "       [[24.42815249,  0.        ,  0.        ],\n",
       "        [ 0.        , 20.4398827 ,  0.        ],\n",
       "        [22.93255132,  0.        ,  0.        ],\n",
       "        ...,\n",
       "        [ 0.        , 20.93841642,  0.        ],\n",
       "        [23.92961877,  0.        ,  0.        ],\n",
       "        [ 0.        , 19.69208211,  0.        ]],\n",
       "\n",
       "       ...,\n",
       "\n",
       "       [[ 0.        , 20.68914956,  0.        ],\n",
       "        [ 0.        ,  0.        , 22.93255132],\n",
       "        [ 0.        , 18.94428152,  0.        ],\n",
       "        ...,\n",
       "        [ 0.        ,  0.        , 19.19354839],\n",
       "        [ 0.        , 16.95014663,  0.        ],\n",
       "        [ 0.        ,  0.        , 20.19061584]],\n",
       "\n",
       "       [[23.68035191,  0.        ,  0.        ],\n",
       "        [ 0.        , 21.18768328,  0.        ],\n",
       "        [23.92961877,  0.        ,  0.        ],\n",
       "        ...,\n",
       "        [ 0.        , 18.19648094,  0.        ],\n",
       "        [18.4457478 ,  0.        ,  0.        ],\n",
       "        [ 0.        , 19.44281525,  0.        ]],\n",
       "\n",
       "       [[ 0.        , 19.69208211,  0.        ],\n",
       "        [ 0.        ,  0.        , 24.92668622],\n",
       "        [ 0.        , 20.19061584,  0.        ],\n",
       "        ...,\n",
       "        [ 0.        ,  0.        , 18.69501466],\n",
       "        [ 0.        , 17.44868035,  0.        ],\n",
       "        [ 0.        ,  0.        , 18.94428152]]])"
      ]
     },
     "execution_count": 28,
     "metadata": {},
     "output_type": "execute_result"
    }
   ],
   "source": [
    "rgb_array"
   ]
  },
  {
   "cell_type": "code",
   "execution_count": 30,
   "metadata": {},
   "outputs": [],
   "source": [
    "rgb_array_8 = rgb_array.astype(np.uint8)"
   ]
  },
  {
   "cell_type": "code",
   "execution_count": 31,
   "metadata": {},
   "outputs": [
    {
     "data": {
      "text/plain": [
       "array([[[25,  0,  0],\n",
       "        [ 0, 19,  0],\n",
       "        [23,  0,  0],\n",
       "        ...,\n",
       "        [ 0, 20,  0],\n",
       "        [24,  0,  0],\n",
       "        [ 0, 19,  0]],\n",
       "\n",
       "       [[ 0, 20,  0],\n",
       "        [ 0,  0, 23],\n",
       "        [ 0, 20,  0],\n",
       "        ...,\n",
       "        [ 0,  0, 23],\n",
       "        [ 0, 19,  0],\n",
       "        [ 0,  0, 23]],\n",
       "\n",
       "       [[24,  0,  0],\n",
       "        [ 0, 20,  0],\n",
       "        [22,  0,  0],\n",
       "        ...,\n",
       "        [ 0, 20,  0],\n",
       "        [23,  0,  0],\n",
       "        [ 0, 19,  0]],\n",
       "\n",
       "       ...,\n",
       "\n",
       "       [[ 0, 20,  0],\n",
       "        [ 0,  0, 22],\n",
       "        [ 0, 18,  0],\n",
       "        ...,\n",
       "        [ 0,  0, 19],\n",
       "        [ 0, 16,  0],\n",
       "        [ 0,  0, 20]],\n",
       "\n",
       "       [[23,  0,  0],\n",
       "        [ 0, 21,  0],\n",
       "        [23,  0,  0],\n",
       "        ...,\n",
       "        [ 0, 18,  0],\n",
       "        [18,  0,  0],\n",
       "        [ 0, 19,  0]],\n",
       "\n",
       "       [[ 0, 19,  0],\n",
       "        [ 0,  0, 24],\n",
       "        [ 0, 20,  0],\n",
       "        ...,\n",
       "        [ 0,  0, 18],\n",
       "        [ 0, 17,  0],\n",
       "        [ 0,  0, 18]]], dtype=uint8)"
      ]
     },
     "execution_count": 31,
     "metadata": {},
     "output_type": "execute_result"
    }
   ],
   "source": [
    "rgb_array_8"
   ]
  },
  {
   "cell_type": "code",
   "execution_count": 32,
   "metadata": {},
   "outputs": [],
   "source": [
    "Image.fromarray(rgb_array_8).show()"
   ]
  },
  {
   "cell_type": "code",
   "execution_count": 34,
   "metadata": {},
   "outputs": [
    {
     "data": {
      "text/plain": [
       "255"
      ]
     },
     "execution_count": 34,
     "metadata": {},
     "output_type": "execute_result"
    }
   ],
   "source": [
    "rgb_array_8.max()"
   ]
  },
  {
   "cell_type": "code",
   "execution_count": null,
   "metadata": {},
   "outputs": [],
   "source": [
    "rgb_array_8.max()"
   ]
  },
  {
   "cell_type": "code",
   "execution_count": null,
   "metadata": {},
   "outputs": [],
   "source": []
  },
  {
   "cell_type": "code",
   "execution_count": null,
   "metadata": {},
   "outputs": [],
   "source": []
  },
  {
   "cell_type": "code",
   "execution_count": null,
   "metadata": {},
   "outputs": [],
   "source": []
  },
  {
   "cell_type": "code",
   "execution_count": null,
   "metadata": {},
   "outputs": [],
   "source": []
  }
 ],
 "metadata": {
  "celltoolbar": "Raw Cell Format",
  "kernelspec": {
   "display_name": "Python 3",
   "language": "python",
   "name": "python3"
  },
  "language_info": {
   "codemirror_mode": {
    "name": "ipython",
    "version": 3
   },
   "file_extension": ".py",
   "mimetype": "text/x-python",
   "name": "python",
   "nbconvert_exporter": "python",
   "pygments_lexer": "ipython3",
   "version": "3.8.3"
  }
 },
 "nbformat": 4,
 "nbformat_minor": 4
}
