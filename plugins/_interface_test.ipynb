{
 "cells": [
  {
   "cell_type": "code",
   "execution_count": 1,
   "metadata": {},
   "outputs": [],
   "source": [
    "from raw2rgb import raw2rgb"
   ]
  },
  {
   "cell_type": "code",
   "execution_count": 6,
   "metadata": {},
   "outputs": [
    {
     "name": "stdout",
     "output_type": "stream",
     "text": [
      "Help on module raw2rgb.raw2rgb in raw2rgb:\n",
      "\n",
      "NAME\n",
      "    raw2rgb.raw2rgb - # -*- coding: utf-8 -*-\n",
      "\n",
      "CLASSES\n",
      "    raw2rgb.fileoperations.FileOperations(builtins.object)\n",
      "        Raw2RGB(raw2rgb.mipiraw2raw.Mipiraw2Raw, raw2rgb.fileoperations.FileOperations)\n",
      "    raw2rgb.mipiraw2raw.Mipiraw2Raw(raw2rgb.fileoperations.FileOperations)\n",
      "        Raw2RGB(raw2rgb.mipiraw2raw.Mipiraw2Raw, raw2rgb.fileoperations.FileOperations)\n",
      "    \n",
      "    class Raw2RGB(raw2rgb.mipiraw2raw.Mipiraw2Raw, raw2rgb.fileoperations.FileOperations)\n",
      "     |  This module is used to convert mipi raw format files into jpg or png formats, and provide viewing functions.\n",
      "     |  \n",
      "     |  Parameters\n",
      "     |  ----------\n",
      "     |  path        : \n",
      "     |                  File path to be resolved.\n",
      "     |  width       : \n",
      "     |                  The width of the original image.\n",
      "     |  height      : \n",
      "     |                  The height of the original image.\n",
      "     |  stride      :\n",
      "     |                  The Stride of mipi raw pictures.\n",
      "     |  bits        :\n",
      "     |                  Store the bit of a pixel.\n",
      "     |  pattern     :\n",
      "     |                  Bayer arrangement pattern.\n",
      "     |  rawtype     :\n",
      "     |                  The types of raw include mipiraw, rawplain and so on.\n",
      "     |  gain        :\n",
      "     |                  The gain of the picture, the default value is 1.0.\n",
      "     |  loss        :    \n",
      "     |                  Whether to discard the 2 low-order data when converting 10bit mipi raw images, the default value is True.\n",
      "     |  arrangement :\n",
      "     |                  There are Bayer permutations, 4in1.\n",
      "     |  Returns\n",
      "     |  -------\n",
      "     |  out : jpg, png\n",
      "     |      The file in .jpg or .png format will be output under the specified path. \n",
      "     |      If the path is not specified, the output file will be output to the same path as the input file.\n",
      "     |  \n",
      "     |  out : rgb_array\n",
      "     |      It can be directly output to three channel RGB, and the stored data structure is ndarray.  \n",
      "     |  \n",
      "     |  See Also\n",
      "     |  --------\n",
      "     |  fileoperations  : Encapsulates some common file operations.\n",
      "     |  mipiraw2raw     : This module is used to convert mipiraw to raw image\n",
      "     |  \n",
      "     |  Examples\n",
      "     |  --------\n",
      "     |  Convert 10bit mipi raw format source files to RGB format:\n",
      "     |  \n",
      "     |  >>> Raw2RGB(\"./Sample\", 4000, 3000).torgb()\n",
      "     |  \n",
      "     |  Method resolution order:\n",
      "     |      Raw2RGB\n",
      "     |      raw2rgb.mipiraw2raw.Mipiraw2Raw\n",
      "     |      raw2rgb.fileoperations.FileOperations\n",
      "     |      builtins.object\n",
      "     |  \n",
      "     |  Methods defined here:\n",
      "     |  \n",
      "     |  __init__(self, path:str, width:int, height:int, stride:int=None, bits:int=10, pattern:str='GRBG', rawtype:str='mipi', gain:float=1.0, loss:bool=False, arrangement:str='bayer')\n",
      "     |      Initialize self.  See help(type(self)) for accurate signature.\n",
      "     |  \n",
      "     |  read_rawplain_data(self) -> numpy.ndarray\n",
      "     |  \n",
      "     |  save(self, ext='.jpg', path='')\n",
      "     |  \n",
      "     |  show(self, number=0)\n",
      "     |  \n",
      "     |  toraw(self)\n",
      "     |      The main process of mipi raw or raw plain convert to raw.\n",
      "     |  \n",
      "     |  torgb(self)\n",
      "     |      The main process of mipi raw convert to rgb image.\n",
      "     |  \n",
      "     |  ----------------------------------------------------------------------\n",
      "     |  Static methods defined here:\n",
      "     |  \n",
      "     |  raw2rgb(raw_array:numpy.ndarray, width:int, height:int, pattern:str, gain:float, arrangement:str)\n",
      "     |      This is the method to convert from raw format to RGB format.\n",
      "     |  \n",
      "     |  raw_standardized2rgb(rgb_array)\n",
      "     |      # Static Method\n",
      "     |  \n",
      "     |  ----------------------------------------------------------------------\n",
      "     |  Data descriptors defined here:\n",
      "     |  \n",
      "     |  arrangement\n",
      "     |  \n",
      "     |  bits\n",
      "     |  \n",
      "     |  gain\n",
      "     |  \n",
      "     |  height\n",
      "     |  \n",
      "     |  loss\n",
      "     |  \n",
      "     |  path\n",
      "     |  \n",
      "     |  pattern\n",
      "     |  \n",
      "     |  raw_data\n",
      "     |  \n",
      "     |  rawtype\n",
      "     |  \n",
      "     |  stride\n",
      "     |  \n",
      "     |  width\n",
      "     |  \n",
      "     |  ----------------------------------------------------------------------\n",
      "     |  Class methods inherited from raw2rgb.mipiraw2raw.Mipiraw2Raw:\n",
      "     |  \n",
      "     |  mipiraw10toraw(mipiraw10_array:numpy.ndarray) from builtins.type\n",
      "     |      This is the lossless conversion method of mipi raw to raw.\n",
      "     |  \n",
      "     |  mipiraw10toraw_l(mipiraw10_array:numpy.ndarray) from builtins.type\n",
      "     |      [0:1] bits are lost when mipi raw 10bit is converted to raw, which will lose precision.\n",
      "     |  \n",
      "     |  mipiraw12toraw(mipiraw12_array:numpy.ndarray) -> numpy.ndarray from builtins.type\n",
      "     |  \n",
      "     |  mipiraw12toraw_l(mipiraw12_array:numpy.ndarray) -> numpy.ndarray from builtins.type\n",
      "     |  \n",
      "     |  mipiraw14toraw(mipiraw14_array:numpy.ndarray) -> numpy.ndarray from builtins.type\n",
      "     |  \n",
      "     |  mipiraw14toraw_l(mipiraw14_array:numpy.ndarray) -> numpy.ndarray from builtins.type\n",
      "     |  \n",
      "     |  mipiraw16toraw(mipiraw16_array:numpy.ndarray) -> numpy.ndarray from builtins.type\n",
      "     |  \n",
      "     |  mipiraw2raw(mipiraw_array:numpy.ndarray, bits:int=10, loss:bool=False) -> numpy.ndarray from builtins.type\n",
      "     |  \n",
      "     |  mipiraw8toraw(mipiraw8_array:numpy.ndarray) -> numpy.ndarray from builtins.type\n",
      "     |  \n",
      "     |  mipiraw_remove_stride(raw_data:numpy.ndarray, width:int, height:int, stride:int) -> numpy.ndarray from builtins.type\n",
      "     |  \n",
      "     |  ----------------------------------------------------------------------\n",
      "     |  Data descriptors inherited from raw2rgb.mipiraw2raw.Mipiraw2Raw:\n",
      "     |  \n",
      "     |  mipiraw_data\n",
      "     |  \n",
      "     |  ----------------------------------------------------------------------\n",
      "     |  Static methods inherited from raw2rgb.fileoperations.FileOperations:\n",
      "     |  \n",
      "     |  get_file_list_from_path(path:'list or str', ext:str='') -> 'list[fullpath]'\n",
      "     |  \n",
      "     |  get_file_list_from_str(path:str, ext:str='') -> 'list[fullpath]'\n",
      "     |  \n",
      "     |  read_raw_data(path:str) -> numpy.ndarray\n",
      "     |  \n",
      "     |  read_raw_data_list(path_list:list) -> 'list[np.ndarray]'\n",
      "     |  \n",
      "     |  read_raw_data_list_with_type(path_list:list, types:numpy.dtype) -> numpy.ndarray\n",
      "     |  \n",
      "     |  read_raw_data_with_type(path:str, types:numpy.dtype) -> numpy.ndarray\n",
      "     |  \n",
      "     |  save_list(filename_list:list, rgb_array_list:'np.ndarray list')\n",
      "     |  \n",
      "     |  ----------------------------------------------------------------------\n",
      "     |  Data descriptors inherited from raw2rgb.fileoperations.FileOperations:\n",
      "     |  \n",
      "     |  __dict__\n",
      "     |      dictionary for instance variables (if defined)\n",
      "     |  \n",
      "     |  __weakref__\n",
      "     |      list of weak references to the object (if defined)\n",
      "    \n",
      "    module_class = class Raw2RGB(raw2rgb.mipiraw2raw.Mipiraw2Raw, raw2rgb.fileoperations.FileOperations)\n",
      "     |  This module is used to convert mipi raw format files into jpg or png formats, and provide viewing functions.\n",
      "     |  \n",
      "     |  Parameters\n",
      "     |  ----------\n",
      "     |  path        : \n",
      "     |                  File path to be resolved.\n",
      "     |  width       : \n",
      "     |                  The width of the original image.\n",
      "     |  height      : \n",
      "     |                  The height of the original image.\n",
      "     |  stride      :\n",
      "     |                  The Stride of mipi raw pictures.\n",
      "     |  bits        :\n",
      "     |                  Store the bit of a pixel.\n",
      "     |  pattern     :\n",
      "     |                  Bayer arrangement pattern.\n",
      "     |  rawtype     :\n",
      "     |                  The types of raw include mipiraw, rawplain and so on.\n",
      "     |  gain        :\n",
      "     |                  The gain of the picture, the default value is 1.0.\n",
      "     |  loss        :    \n",
      "     |                  Whether to discard the 2 low-order data when converting 10bit mipi raw images, the default value is True.\n",
      "     |  arrangement :\n",
      "     |                  There are Bayer permutations, 4in1.\n",
      "     |  Returns\n",
      "     |  -------\n",
      "     |  out : jpg, png\n",
      "     |      The file in .jpg or .png format will be output under the specified path. \n",
      "     |      If the path is not specified, the output file will be output to the same path as the input file.\n",
      "     |  \n",
      "     |  out : rgb_array\n",
      "     |      It can be directly output to three channel RGB, and the stored data structure is ndarray.  \n",
      "     |  \n",
      "     |  See Also\n",
      "     |  --------\n",
      "     |  fileoperations  : Encapsulates some common file operations.\n",
      "     |  mipiraw2raw     : This module is used to convert mipiraw to raw image\n",
      "     |  \n",
      "     |  Examples\n",
      "     |  --------\n",
      "     |  Convert 10bit mipi raw format source files to RGB format:\n",
      "     |  \n",
      "     |  >>> Raw2RGB(\"./Sample\", 4000, 3000).torgb()\n",
      "     |  \n",
      "     |  Method resolution order:\n",
      "     |      Raw2RGB\n",
      "     |      raw2rgb.mipiraw2raw.Mipiraw2Raw\n",
      "     |      raw2rgb.fileoperations.FileOperations\n",
      "     |      builtins.object\n",
      "     |  \n",
      "     |  Methods defined here:\n",
      "     |  \n",
      "     |  __init__(self, path:str, width:int, height:int, stride:int=None, bits:int=10, pattern:str='GRBG', rawtype:str='mipi', gain:float=1.0, loss:bool=False, arrangement:str='bayer')\n",
      "     |      Initialize self.  See help(type(self)) for accurate signature.\n",
      "     |  \n",
      "     |  read_rawplain_data(self) -> numpy.ndarray\n",
      "     |  \n",
      "     |  save(self, ext='.jpg', path='')\n",
      "     |  \n",
      "     |  show(self, number=0)\n",
      "     |  \n",
      "     |  toraw(self)\n",
      "     |      The main process of mipi raw or raw plain convert to raw.\n",
      "     |  \n",
      "     |  torgb(self)\n",
      "     |      The main process of mipi raw convert to rgb image.\n",
      "     |  \n",
      "     |  ----------------------------------------------------------------------\n",
      "     |  Static methods defined here:\n",
      "     |  \n",
      "     |  raw2rgb(raw_array:numpy.ndarray, width:int, height:int, pattern:str, gain:float, arrangement:str)\n",
      "     |      This is the method to convert from raw format to RGB format.\n",
      "     |  \n",
      "     |  raw_standardized2rgb(rgb_array)\n",
      "     |      # Static Method\n",
      "     |  \n",
      "     |  ----------------------------------------------------------------------\n",
      "     |  Data descriptors defined here:\n",
      "     |  \n",
      "     |  arrangement\n",
      "     |  \n",
      "     |  bits\n",
      "     |  \n",
      "     |  gain\n",
      "     |  \n",
      "     |  height\n",
      "     |  \n",
      "     |  loss\n",
      "     |  \n",
      "     |  path\n",
      "     |  \n",
      "     |  pattern\n",
      "     |  \n",
      "     |  raw_data\n",
      "     |  \n",
      "     |  rawtype\n",
      "     |  \n",
      "     |  stride\n",
      "     |  \n",
      "     |  width\n",
      "     |  \n",
      "     |  ----------------------------------------------------------------------\n",
      "     |  Class methods inherited from raw2rgb.mipiraw2raw.Mipiraw2Raw:\n",
      "     |  \n",
      "     |  mipiraw10toraw(mipiraw10_array:numpy.ndarray) from builtins.type\n",
      "     |      This is the lossless conversion method of mipi raw to raw.\n",
      "     |  \n",
      "     |  mipiraw10toraw_l(mipiraw10_array:numpy.ndarray) from builtins.type\n",
      "     |      [0:1] bits are lost when mipi raw 10bit is converted to raw, which will lose precision.\n",
      "     |  \n",
      "     |  mipiraw12toraw(mipiraw12_array:numpy.ndarray) -> numpy.ndarray from builtins.type\n",
      "     |  \n",
      "     |  mipiraw12toraw_l(mipiraw12_array:numpy.ndarray) -> numpy.ndarray from builtins.type\n",
      "     |  \n",
      "     |  mipiraw14toraw(mipiraw14_array:numpy.ndarray) -> numpy.ndarray from builtins.type\n",
      "     |  \n",
      "     |  mipiraw14toraw_l(mipiraw14_array:numpy.ndarray) -> numpy.ndarray from builtins.type\n",
      "     |  \n",
      "     |  mipiraw16toraw(mipiraw16_array:numpy.ndarray) -> numpy.ndarray from builtins.type\n",
      "     |  \n",
      "     |  mipiraw2raw(mipiraw_array:numpy.ndarray, bits:int=10, loss:bool=False) -> numpy.ndarray from builtins.type\n",
      "     |  \n",
      "     |  mipiraw8toraw(mipiraw8_array:numpy.ndarray) -> numpy.ndarray from builtins.type\n",
      "     |  \n",
      "     |  mipiraw_remove_stride(raw_data:numpy.ndarray, width:int, height:int, stride:int) -> numpy.ndarray from builtins.type\n",
      "     |  \n",
      "     |  ----------------------------------------------------------------------\n",
      "     |  Data descriptors inherited from raw2rgb.mipiraw2raw.Mipiraw2Raw:\n",
      "     |  \n",
      "     |  mipiraw_data\n",
      "     |  \n",
      "     |  ----------------------------------------------------------------------\n",
      "     |  Static methods inherited from raw2rgb.fileoperations.FileOperations:\n",
      "     |  \n",
      "     |  get_file_list_from_path(path:'list or str', ext:str='') -> 'list[fullpath]'\n",
      "     |  \n",
      "     |  get_file_list_from_str(path:str, ext:str='') -> 'list[fullpath]'\n",
      "     |  \n",
      "     |  read_raw_data(path:str) -> numpy.ndarray\n",
      "     |  \n",
      "     |  read_raw_data_list(path_list:list) -> 'list[np.ndarray]'\n",
      "     |  \n",
      "     |  read_raw_data_list_with_type(path_list:list, types:numpy.dtype) -> numpy.ndarray\n",
      "     |  \n",
      "     |  read_raw_data_with_type(path:str, types:numpy.dtype) -> numpy.ndarray\n",
      "     |  \n",
      "     |  save_list(filename_list:list, rgb_array_list:'np.ndarray list')\n",
      "     |  \n",
      "     |  ----------------------------------------------------------------------\n",
      "     |  Data descriptors inherited from raw2rgb.fileoperations.FileOperations:\n",
      "     |  \n",
      "     |  __dict__\n",
      "     |      dictionary for instance variables (if defined)\n",
      "     |  \n",
      "     |  __weakref__\n",
      "     |      list of weak references to the object (if defined)\n",
      "    \n",
      "    raw2rgb = class Raw2RGB(raw2rgb.mipiraw2raw.Mipiraw2Raw, raw2rgb.fileoperations.FileOperations)\n",
      "     |  This module is used to convert mipi raw format files into jpg or png formats, and provide viewing functions.\n",
      "     |  \n",
      "     |  Parameters\n",
      "     |  ----------\n",
      "     |  path        : \n",
      "     |                  File path to be resolved.\n",
      "     |  width       : \n",
      "     |                  The width of the original image.\n",
      "     |  height      : \n",
      "     |                  The height of the original image.\n",
      "     |  stride      :\n",
      "     |                  The Stride of mipi raw pictures.\n",
      "     |  bits        :\n",
      "     |                  Store the bit of a pixel.\n",
      "     |  pattern     :\n",
      "     |                  Bayer arrangement pattern.\n",
      "     |  rawtype     :\n",
      "     |                  The types of raw include mipiraw, rawplain and so on.\n",
      "     |  gain        :\n",
      "     |                  The gain of the picture, the default value is 1.0.\n",
      "     |  loss        :    \n",
      "     |                  Whether to discard the 2 low-order data when converting 10bit mipi raw images, the default value is True.\n",
      "     |  arrangement :\n",
      "     |                  There are Bayer permutations, 4in1.\n",
      "     |  Returns\n",
      "     |  -------\n",
      "     |  out : jpg, png\n",
      "     |      The file in .jpg or .png format will be output under the specified path. \n",
      "     |      If the path is not specified, the output file will be output to the same path as the input file.\n",
      "     |  \n",
      "     |  out : rgb_array\n",
      "     |      It can be directly output to three channel RGB, and the stored data structure is ndarray.  \n",
      "     |  \n",
      "     |  See Also\n",
      "     |  --------\n",
      "     |  fileoperations  : Encapsulates some common file operations.\n",
      "     |  mipiraw2raw     : This module is used to convert mipiraw to raw image\n",
      "     |  \n",
      "     |  Examples\n",
      "     |  --------\n",
      "     |  Convert 10bit mipi raw format source files to RGB format:\n",
      "     |  \n",
      "     |  >>> Raw2RGB(\"./Sample\", 4000, 3000).torgb()\n",
      "     |  \n",
      "     |  Method resolution order:\n",
      "     |      Raw2RGB\n",
      "     |      raw2rgb.mipiraw2raw.Mipiraw2Raw\n",
      "     |      raw2rgb.fileoperations.FileOperations\n",
      "     |      builtins.object\n",
      "     |  \n",
      "     |  Methods defined here:\n",
      "     |  \n",
      "     |  __init__(self, path:str, width:int, height:int, stride:int=None, bits:int=10, pattern:str='GRBG', rawtype:str='mipi', gain:float=1.0, loss:bool=False, arrangement:str='bayer')\n",
      "     |      Initialize self.  See help(type(self)) for accurate signature.\n",
      "     |  \n",
      "     |  read_rawplain_data(self) -> numpy.ndarray\n",
      "     |  \n",
      "     |  save(self, ext='.jpg', path='')\n",
      "     |  \n",
      "     |  show(self, number=0)\n",
      "     |  \n",
      "     |  toraw(self)\n",
      "     |      The main process of mipi raw or raw plain convert to raw.\n",
      "     |  \n",
      "     |  torgb(self)\n",
      "     |      The main process of mipi raw convert to rgb image.\n",
      "     |  \n",
      "     |  ----------------------------------------------------------------------\n",
      "     |  Static methods defined here:\n",
      "     |  \n",
      "     |  raw2rgb(raw_array:numpy.ndarray, width:int, height:int, pattern:str, gain:float, arrangement:str)\n",
      "     |      This is the method to convert from raw format to RGB format.\n",
      "     |  \n",
      "     |  raw_standardized2rgb(rgb_array)\n",
      "     |      # Static Method\n",
      "     |  \n",
      "     |  ----------------------------------------------------------------------\n",
      "     |  Data descriptors defined here:\n",
      "     |  \n",
      "     |  arrangement\n",
      "     |  \n",
      "     |  bits\n",
      "     |  \n",
      "     |  gain\n",
      "     |  \n",
      "     |  height\n",
      "     |  \n",
      "     |  loss\n",
      "     |  \n",
      "     |  path\n",
      "     |  \n",
      "     |  pattern\n",
      "     |  \n",
      "     |  raw_data\n",
      "     |  \n",
      "     |  rawtype\n",
      "     |  \n",
      "     |  stride\n",
      "     |  \n",
      "     |  width\n",
      "     |  \n",
      "     |  ----------------------------------------------------------------------\n",
      "     |  Class methods inherited from raw2rgb.mipiraw2raw.Mipiraw2Raw:\n",
      "     |  \n",
      "     |  mipiraw10toraw(mipiraw10_array:numpy.ndarray) from builtins.type\n",
      "     |      This is the lossless conversion method of mipi raw to raw.\n",
      "     |  \n",
      "     |  mipiraw10toraw_l(mipiraw10_array:numpy.ndarray) from builtins.type\n",
      "     |      [0:1] bits are lost when mipi raw 10bit is converted to raw, which will lose precision.\n",
      "     |  \n",
      "     |  mipiraw12toraw(mipiraw12_array:numpy.ndarray) -> numpy.ndarray from builtins.type\n",
      "     |  \n",
      "     |  mipiraw12toraw_l(mipiraw12_array:numpy.ndarray) -> numpy.ndarray from builtins.type\n",
      "     |  \n",
      "     |  mipiraw14toraw(mipiraw14_array:numpy.ndarray) -> numpy.ndarray from builtins.type\n",
      "     |  \n",
      "     |  mipiraw14toraw_l(mipiraw14_array:numpy.ndarray) -> numpy.ndarray from builtins.type\n",
      "     |  \n",
      "     |  mipiraw16toraw(mipiraw16_array:numpy.ndarray) -> numpy.ndarray from builtins.type\n",
      "     |  \n",
      "     |  mipiraw2raw(mipiraw_array:numpy.ndarray, bits:int=10, loss:bool=False) -> numpy.ndarray from builtins.type\n",
      "     |  \n",
      "     |  mipiraw8toraw(mipiraw8_array:numpy.ndarray) -> numpy.ndarray from builtins.type\n",
      "     |  \n",
      "     |  mipiraw_remove_stride(raw_data:numpy.ndarray, width:int, height:int, stride:int) -> numpy.ndarray from builtins.type\n",
      "     |  \n",
      "     |  ----------------------------------------------------------------------\n",
      "     |  Data descriptors inherited from raw2rgb.mipiraw2raw.Mipiraw2Raw:\n",
      "     |  \n",
      "     |  mipiraw_data\n",
      "     |  \n",
      "     |  ----------------------------------------------------------------------\n",
      "     |  Static methods inherited from raw2rgb.fileoperations.FileOperations:\n",
      "     |  \n",
      "     |  get_file_list_from_path(path:'list or str', ext:str='') -> 'list[fullpath]'\n",
      "     |  \n",
      "     |  get_file_list_from_str(path:str, ext:str='') -> 'list[fullpath]'\n",
      "     |  \n",
      "     |  read_raw_data(path:str) -> numpy.ndarray\n",
      "     |  \n",
      "     |  read_raw_data_list(path_list:list) -> 'list[np.ndarray]'\n",
      "     |  \n",
      "     |  read_raw_data_list_with_type(path_list:list, types:numpy.dtype) -> numpy.ndarray\n",
      "     |  \n",
      "     |  read_raw_data_with_type(path:str, types:numpy.dtype) -> numpy.ndarray\n",
      "     |  \n",
      "     |  save_list(filename_list:list, rgb_array_list:'np.ndarray list')\n",
      "     |  \n",
      "     |  ----------------------------------------------------------------------\n",
      "     |  Data descriptors inherited from raw2rgb.fileoperations.FileOperations:\n",
      "     |  \n",
      "     |  __dict__\n",
      "     |      dictionary for instance variables (if defined)\n",
      "     |  \n",
      "     |  __weakref__\n",
      "     |      list of weak references to the object (if defined)\n",
      "\n",
      "FUNCTIONS\n",
      "    ceil(...)\n",
      "        ceil(x)\n",
      "        \n",
      "        Return the ceiling of x as an Integral.\n",
      "        This is the smallest integer >= x.\n",
      "    \n",
      "    module_function(func_name)\n",
      "    \n",
      "    module_init(params=None)\n",
      "    \n",
      "    run()\n",
      "        Invoke a single module from the command line\n",
      "    \n",
      "    run_debug()\n",
      "\n",
      "DATA\n",
      "    ARRANGEMENT = ('bayer', '4in1')\n",
      "    BITS_TYPE = (8, 10, 12, 14, 16)\n",
      "    PATTERN = ('GRBG', 'BGGR', 'RGGB')\n",
      "    RAWTYPE = ('mipi', 'rawplain')\n",
      "    cuda_acceleration = False\n",
      "    debug = True\n",
      "    module_dict = {}\n",
      "    module_function_help = {'show': 'show images', 'toraw': 'mipiraw to ra...\n",
      "    module_help = 'This module is used to convert mipi raw format f...Raw2...\n",
      "    module_obj = None\n",
      "    module_params = {'arrangement': 'bayer', 'bits': 10, 'gain': 1.0, 'hei...\n",
      "    module_params_help = {'arrangement': ' There are Bayer permutations, 4...\n",
      "    module_params_type = {'arrangement': <class 'str'>, 'bits': <class 'in...\n",
      "    module_static_function = {'raw2rgb': <function Raw2RGB.raw2rgb>, 'raw_...\n",
      "    module_static_function_help = {'raw2rgb': 'This is the method to conve...\n",
      "    parallel_computing_multi_Progress = False\n",
      "    parallel_computing_multi_coroutine = True\n",
      "    release = False\n",
      "\n",
      "VERSION\n",
      "    0.0.7\n",
      "\n",
      "AUTHOR\n",
      "    Zheng Jiacheng\n",
      "\n",
      "FILE\n",
      "    /home/jc/Projects/CViewer/GitLab/CViewer/python/raw2rgb/raw2rgb.py\n",
      "\n",
      "\n"
     ]
    }
   ],
   "source": [
    "help(raw2rgb)"
   ]
  },
  {
   "cell_type": "code",
   "execution_count": 8,
   "metadata": {
    "scrolled": true
   },
   "outputs": [
    {
     "name": "stdout",
     "output_type": "stream",
     "text": [
      "<class 'module'>\n"
     ]
    }
   ],
   "source": [
    "print(raw2rgb.__class__)"
   ]
  },
  {
   "cell_type": "code",
   "execution_count": 10,
   "metadata": {},
   "outputs": [
    {
     "name": "stdout",
     "output_type": "stream",
     "text": [
      "raw2rgb.raw2rgb\n"
     ]
    }
   ],
   "source": [
    "print(raw2rgb.__name__)"
   ]
  },
  {
   "cell_type": "code",
   "execution_count": 13,
   "metadata": {},
   "outputs": [
    {
     "name": "stdout",
     "output_type": "stream",
     "text": [
      "{'path': None, 'width': None, 'height': None, 'stride': None, 'bits': 10, 'pattern': 'GRBG', 'rawtype': 'mipi', 'gain': 1.0, 'loss': False, 'arrangement': 'bayer'}\n"
     ]
    }
   ],
   "source": [
    "print(raw2rgb.module_params)"
   ]
  },
  {
   "cell_type": "code",
   "execution_count": 14,
   "metadata": {},
   "outputs": [
    {
     "name": "stdout",
     "output_type": "stream",
     "text": [
      "{'path': <class 'str'>, 'width': <class 'int'>, 'height': <class 'int'>, 'stride': <class 'int'>, 'bits': <class 'int'>, 'pattern': <class 'str'>, 'rawtype': <class 'str'>, 'gain': <class 'float'>, 'loss': <class 'bool'>, 'arrangement': <class 'str'>}\n"
     ]
    }
   ],
   "source": [
    "print(raw2rgb.module_params_type)"
   ]
  },
  {
   "cell_type": "code",
   "execution_count": 15,
   "metadata": {},
   "outputs": [
    {
     "data": {
      "text/plain": [
       "{'path': None,\n",
       " 'width': None,\n",
       " 'height': None,\n",
       " 'stride': None,\n",
       " 'bits': 10,\n",
       " 'pattern': 'GRBG',\n",
       " 'rawtype': 'mipi',\n",
       " 'gain': 1.0,\n",
       " 'loss': False,\n",
       " 'arrangement': 'bayer'}"
      ]
     },
     "execution_count": 15,
     "metadata": {},
     "output_type": "execute_result"
    }
   ],
   "source": [
    "raw2rgb.module_params"
   ]
  },
  {
   "cell_type": "code",
   "execution_count": 16,
   "metadata": {},
   "outputs": [],
   "source": [
    "raw2rgb.module_params[\"path\"] = \"/home/jc/Projects/CViewer/GitLab/CViewer/sample/Sample.raw\""
   ]
  },
  {
   "cell_type": "code",
   "execution_count": 17,
   "metadata": {},
   "outputs": [
    {
     "data": {
      "text/plain": [
       "{'path': '/home/jc/Projects/CViewer/GitLab/CViewer/sample/Sample.raw',\n",
       " 'width': None,\n",
       " 'height': None,\n",
       " 'stride': None,\n",
       " 'bits': 10,\n",
       " 'pattern': 'GRBG',\n",
       " 'rawtype': 'mipi',\n",
       " 'gain': 1.0,\n",
       " 'loss': False,\n",
       " 'arrangement': 'bayer'}"
      ]
     },
     "execution_count": 17,
     "metadata": {},
     "output_type": "execute_result"
    }
   ],
   "source": [
    "raw2rgb.module_params"
   ]
  },
  {
   "cell_type": "code",
   "execution_count": 18,
   "metadata": {},
   "outputs": [],
   "source": [
    "raw2rgb.module_params[\"width\"] = 4000"
   ]
  },
  {
   "cell_type": "code",
   "execution_count": 19,
   "metadata": {},
   "outputs": [],
   "source": [
    "raw2rgb.module_params[\"height\"] = 3000"
   ]
  },
  {
   "cell_type": "code",
   "execution_count": 20,
   "metadata": {},
   "outputs": [],
   "source": [
    "raw2rgb.module_params[\"height\"] = 3000"
   ]
  },
  {
   "cell_type": "code",
   "execution_count": 21,
   "metadata": {},
   "outputs": [
    {
     "data": {
      "text/plain": [
       "<function raw2rgb.raw2rgb.module_init(params=None)>"
      ]
     },
     "execution_count": 21,
     "metadata": {},
     "output_type": "execute_result"
    }
   ],
   "source": [
    "raw2rgb.module_init"
   ]
  },
  {
   "cell_type": "code",
   "execution_count": 22,
   "metadata": {},
   "outputs": [
    {
     "data": {
      "text/plain": [
       "<function raw2rgb.raw2rgb.module_function(func_name)>"
      ]
     },
     "execution_count": 22,
     "metadata": {},
     "output_type": "execute_result"
    }
   ],
   "source": [
    "raw2rgb.module_function"
   ]
  },
  {
   "cell_type": "code",
   "execution_count": 23,
   "metadata": {},
   "outputs": [
    {
     "data": {
      "text/plain": [
       "{'toraw': 'mipiraw to raw', 'torgb': 'raw to rgb', 'show': 'show images'}"
      ]
     },
     "execution_count": 23,
     "metadata": {},
     "output_type": "execute_result"
    }
   ],
   "source": [
    "raw2rgb.module_function_help"
   ]
  },
  {
   "cell_type": "code",
   "execution_count": 24,
   "metadata": {},
   "outputs": [
    {
     "data": {
      "text/plain": [
       "<function raw2rgb.raw2rgb.module_function(func_name)>"
      ]
     },
     "execution_count": 24,
     "metadata": {},
     "output_type": "execute_result"
    }
   ],
   "source": [
    "raw2rgb.module_function"
   ]
  },
  {
   "cell_type": "code",
   "execution_count": 25,
   "metadata": {},
   "outputs": [
    {
     "data": {
      "text/plain": [
       "<raw2rgb.raw2rgb.Raw2RGB at 0x7f6c8aba6358>"
      ]
     },
     "execution_count": 25,
     "metadata": {},
     "output_type": "execute_result"
    }
   ],
   "source": [
    "raw2rgb.module_init()"
   ]
  },
  {
   "cell_type": "code",
   "execution_count": 26,
   "metadata": {},
   "outputs": [
    {
     "name": "stdout",
     "output_type": "stream",
     "text": [
      "M:  The reading is successful, the data file length is: 15000000\n",
      "M: @test_run_time: mipiraw_remove_stride took 2.86102294921875e-06 seconds.\n",
      "M: @test_run_time: mipiraw10toraw took 0.09131956100463867 seconds.\n"
     ]
    },
    {
     "data": {
      "text/plain": [
       "array([[102,  80,  94, ...,  75,  70,  76]], dtype=uint16)"
      ]
     },
     "execution_count": 26,
     "metadata": {},
     "output_type": "execute_result"
    }
   ],
   "source": [
    "raw2rgb.module_function(\"toraw\")"
   ]
  },
  {
   "cell_type": "code",
   "execution_count": 27,
   "metadata": {},
   "outputs": [
    {
     "data": {
      "text/plain": [
       "array([[[ 0, 25,  0],\n",
       "        [19,  0,  0],\n",
       "        [ 0, 23,  0],\n",
       "        ...,\n",
       "        [20,  0,  0],\n",
       "        [ 0, 24,  0],\n",
       "        [19,  0,  0]],\n",
       "\n",
       "       [[ 0,  0, 20],\n",
       "        [ 0, 23,  0],\n",
       "        [ 0,  0, 20],\n",
       "        ...,\n",
       "        [ 0, 23,  0],\n",
       "        [ 0,  0, 19],\n",
       "        [ 0, 23,  0]],\n",
       "\n",
       "       [[ 0, 24,  0],\n",
       "        [20,  0,  0],\n",
       "        [ 0, 22,  0],\n",
       "        ...,\n",
       "        [20,  0,  0],\n",
       "        [ 0, 23,  0],\n",
       "        [19,  0,  0]],\n",
       "\n",
       "       ...,\n",
       "\n",
       "       [[ 0,  0, 20],\n",
       "        [ 0, 22,  0],\n",
       "        [ 0,  0, 18],\n",
       "        ...,\n",
       "        [ 0, 19,  0],\n",
       "        [ 0,  0, 16],\n",
       "        [ 0, 20,  0]],\n",
       "\n",
       "       [[ 0, 23,  0],\n",
       "        [21,  0,  0],\n",
       "        [ 0, 23,  0],\n",
       "        ...,\n",
       "        [18,  0,  0],\n",
       "        [ 0, 18,  0],\n",
       "        [19,  0,  0]],\n",
       "\n",
       "       [[ 0,  0, 19],\n",
       "        [ 0, 24,  0],\n",
       "        [ 0,  0, 20],\n",
       "        ...,\n",
       "        [ 0, 18,  0],\n",
       "        [ 0,  0, 17],\n",
       "        [ 0, 18,  0]]], dtype=uint8)"
      ]
     },
     "execution_count": 27,
     "metadata": {},
     "output_type": "execute_result"
    }
   ],
   "source": [
    "raw2rgb.module_function(\"torgb\")"
   ]
  },
  {
   "cell_type": "code",
   "execution_count": null,
   "metadata": {},
   "outputs": [],
   "source": []
  },
  {
   "cell_type": "code",
   "execution_count": null,
   "metadata": {},
   "outputs": [],
   "source": []
  },
  {
   "cell_type": "code",
   "execution_count": null,
   "metadata": {},
   "outputs": [],
   "source": []
  },
  {
   "cell_type": "code",
   "execution_count": null,
   "metadata": {},
   "outputs": [],
   "source": []
  },
  {
   "cell_type": "code",
   "execution_count": null,
   "metadata": {},
   "outputs": [],
   "source": []
  },
  {
   "cell_type": "code",
   "execution_count": null,
   "metadata": {},
   "outputs": [],
   "source": []
  },
  {
   "cell_type": "code",
   "execution_count": null,
   "metadata": {},
   "outputs": [],
   "source": []
  },
  {
   "cell_type": "code",
   "execution_count": null,
   "metadata": {},
   "outputs": [],
   "source": []
  }
 ],
 "metadata": {
  "kernelspec": {
   "display_name": "Python 3",
   "language": "python",
   "name": "python3"
  },
  "language_info": {
   "codemirror_mode": {
    "name": "ipython",
    "version": 3
   },
   "file_extension": ".py",
   "mimetype": "text/x-python",
   "name": "python",
   "nbconvert_exporter": "python",
   "pygments_lexer": "ipython3",
   "version": "3.6.9"
  }
 },
 "nbformat": 4,
 "nbformat_minor": 4
}
